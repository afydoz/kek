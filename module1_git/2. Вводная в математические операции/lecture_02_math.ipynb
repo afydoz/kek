{
 "cells": [
  {
   "cell_type": "markdown",
   "metadata": {},
   "source": [
    "<img src=\"otus.png\">"
   ]
  },
  {
   "cell_type": "markdown",
   "metadata": {},
   "source": [
    "# Введение в математические операции\n",
    "\n",
    "Для составления материалов лекции использовались книги издательства МГТУ им. Н. Э. Баумана серии \"Математика в техническом университете\""
   ]
  },
  {
   "cell_type": "markdown",
   "metadata": {},
   "source": [
    "### Вектор\n",
    "\n",
    "Определяется величиной и направлением.  \n",
    "Когда описываем движущиеся объекты в пространстве, обычно указываем три компоненты.  \n",
    "\n",
    "Например, скорость:\n",
    "\n",
    "**velocity** = $\\begin{pmatrix}10\\\\50\\\\5000\\end{pmatrix}$"
   ]
  },
  {
   "cell_type": "markdown",
   "metadata": {},
   "source": [
    "### Вектор в машинном обучении"
   ]
  },
  {
   "cell_type": "markdown",
   "metadata": {},
   "source": [
    "Объект реального мира\n",
    "\n",
    "Машина\n",
    "- объем двигателя\n",
    "- мощность\n",
    "- максимальная скорость\n",
    "- время разгона до 100 км/ч"
   ]
  },
  {
   "cell_type": "markdown",
   "metadata": {},
   "source": [
    "Размерность зафиксирована, про все авто известны одни и те же атрибуты.\n",
    "Удобно описать вектором:"
   ]
  },
  {
   "cell_type": "markdown",
   "metadata": {},
   "source": [
    "**car_1** = $\\begin{pmatrix}3799\\\\540\\\\320\\\\3.5\\end{pmatrix}$  \n",
    "**car_2** = $\\begin{pmatrix}2451\\\\190\\\\210\\\\nan\\end{pmatrix}$"
   ]
  },
  {
   "cell_type": "markdown",
   "metadata": {
    "collapsed": true
   },
   "source": [
    "### Векторы в Python"
   ]
  },
  {
   "cell_type": "markdown",
   "metadata": {},
   "source": [
    "<img src=\"vectors.png\">"
   ]
  },
  {
   "cell_type": "code",
   "execution_count": null,
   "metadata": {},
   "outputs": [],
   "source": [
    "river_velocity = [1, 0, 0]\n",
    "boat_velocity = [0, 5, 0]\n",
    "boat_actual_velocity = river_velocity + boat_velocity # No!"
   ]
  },
  {
   "cell_type": "code",
   "execution_count": null,
   "metadata": {},
   "outputs": [],
   "source": [
    "boat_actual_velocity"
   ]
  },
  {
   "cell_type": "code",
   "execution_count": null,
   "metadata": {},
   "outputs": [],
   "source": [
    "boat_actual_velocity = [river_velocity[i] + boat_velocity[i] for i in range(3)]"
   ]
  },
  {
   "cell_type": "code",
   "execution_count": null,
   "metadata": {},
   "outputs": [],
   "source": [
    "boat_actual_velocity"
   ]
  },
  {
   "cell_type": "markdown",
   "metadata": {},
   "source": [
    "Используем Numpy:"
   ]
  },
  {
   "cell_type": "code",
   "execution_count": null,
   "metadata": {},
   "outputs": [],
   "source": [
    "import numpy as np"
   ]
  },
  {
   "cell_type": "code",
   "execution_count": null,
   "metadata": {},
   "outputs": [],
   "source": [
    "river_velocity = np.array((1, 0, 0))\n",
    "boat_velocity = np.array((0, 5, 0))"
   ]
  },
  {
   "cell_type": "code",
   "execution_count": null,
   "metadata": {},
   "outputs": [],
   "source": [
    "print(river_velocity)\n",
    "print(boat_velocity)"
   ]
  },
  {
   "cell_type": "code",
   "execution_count": null,
   "metadata": {},
   "outputs": [],
   "source": [
    "boat_actual_velocity = river_velocity + boat_velocity\n",
    "print(boat_actual_velocity)"
   ]
  },
  {
   "cell_type": "markdown",
   "metadata": {},
   "source": [
    "Сумма векторов"
   ]
  },
  {
   "cell_type": "code",
   "execution_count": null,
   "metadata": {},
   "outputs": [],
   "source": [
    "n = 10\n",
    "a = np.random.randint(0, 5, n)\n",
    "b = np.random.randint(0, 5, n)\n",
    "print(a)\n",
    "print(b)\n",
    "print(a + b)"
   ]
  },
  {
   "cell_type": "markdown",
   "metadata": {},
   "source": [
    "Умножение вектора на число"
   ]
  },
  {
   "cell_type": "code",
   "execution_count": null,
   "metadata": {},
   "outputs": [],
   "source": [
    "print(a)\n",
    "print(a * 2)"
   ]
  },
  {
   "cell_type": "markdown",
   "metadata": {},
   "source": [
    "Норма вектора\n",
    "\n",
    "Норма вектора - мера длины. Рассмотрим евклидову норму.\n",
    "\n",
    "$\\left \\Vert \\textbf{u} \\right \\| = \\sqrt{\\sum_{i}{\\textbf{u}_i}^2}$\n",
    "\n",
    "Или\n",
    "\n",
    "$\\left \\Vert \\textbf{u} \\right \\| = \\sqrt{{\\textbf{u}_1}^2 + {\\textbf{u}_2}^2 + {\\textbf{u}_3}^2 + ...}$"
   ]
  },
  {
   "cell_type": "code",
   "execution_count": null,
   "metadata": {},
   "outputs": [],
   "source": [
    "import numpy.linalg as la\n",
    "print(la.norm(np.array([1, 1])))\n",
    "print(la.norm(np.array([1, 1, 1])))\n",
    "print(la.norm(np.array([1, 1, 1, 1])))\n",
    "\n",
    "print(la.norm(np.array([3, 4])))"
   ]
  },
  {
   "cell_type": "markdown",
   "metadata": {},
   "source": [
    "### Коммутативность"
   ]
  },
  {
   "cell_type": "code",
   "execution_count": null,
   "metadata": {},
   "outputs": [],
   "source": [
    "# операция np.array_equal\n",
    "print(np.array_equal(np.array([1, 2, 1]), np.array([1, 2, 3])))\n",
    "print(np.array_equal(np.array([1, 2, 3]), np.array([1, 2, 3])))"
   ]
  },
  {
   "cell_type": "code",
   "execution_count": null,
   "metadata": {},
   "outputs": [],
   "source": [
    "np.array_equal(a + b, b + a)"
   ]
  },
  {
   "cell_type": "markdown",
   "metadata": {},
   "source": [
    "### Ассоциативность"
   ]
  },
  {
   "cell_type": "code",
   "execution_count": null,
   "metadata": {},
   "outputs": [],
   "source": [
    "c = np.random.randint(0, 5, n)"
   ]
  },
  {
   "cell_type": "code",
   "execution_count": null,
   "metadata": {},
   "outputs": [],
   "source": [
    "np.array_equal(a + (b + c), (a + b) + c)"
   ]
  },
  {
   "cell_type": "markdown",
   "metadata": {},
   "source": [
    "### Прибавить число к каждому элементу"
   ]
  },
  {
   "cell_type": "code",
   "execution_count": null,
   "metadata": {},
   "outputs": [],
   "source": [
    "print(a)\n",
    "print(a + 3)"
   ]
  },
  {
   "cell_type": "markdown",
   "metadata": {},
   "source": [
    "### Сумма с нулем"
   ]
  },
  {
   "cell_type": "code",
   "execution_count": null,
   "metadata": {},
   "outputs": [],
   "source": [
    "np.array_equal(a + 0, a)"
   ]
  },
  {
   "cell_type": "code",
   "execution_count": null,
   "metadata": {},
   "outputs": [],
   "source": [
    "print(a)\n",
    "print(-a)"
   ]
  },
  {
   "cell_type": "code",
   "execution_count": null,
   "metadata": {},
   "outputs": [],
   "source": [
    "np.array_equal(a + (-a), np.zeros(a.shape[0]))"
   ]
  },
  {
   "cell_type": "markdown",
   "metadata": {},
   "source": [
    "### Скалярное произведение"
   ]
  },
  {
   "cell_type": "markdown",
   "metadata": {},
   "source": [
    "$\\textbf{u} \\cdot \\textbf{v} = \\left \\Vert \\textbf{u} \\right \\| \\times \\left \\Vert \\textbf{v} \\right \\| \\times cos(\\theta)$  \n",
    "\n",
    "или\n",
    "\n",
    "$\\textbf{u} \\cdot \\textbf{v} = \\sum_i({\\textbf{u}_i \\times \\textbf{v}_i})$\n"
   ]
  },
  {
   "cell_type": "code",
   "execution_count": null,
   "metadata": {},
   "outputs": [],
   "source": [
    "print(np.dot(np.array([1, 2, 3]), np.array([2, 2, 2])))"
   ]
  },
  {
   "cell_type": "markdown",
   "metadata": {
    "collapsed": true
   },
   "source": [
    "### Матрица\n",
    "\n",
    "Прямоугольная таблица чисел.\n",
    "\n",
    "В Python"
   ]
  },
  {
   "cell_type": "code",
   "execution_count": null,
   "metadata": {},
   "outputs": [],
   "source": [
    "[\n",
    "    [10, 20, 30],\n",
    "    [40, 50, 60]\n",
    "]"
   ]
  },
  {
   "cell_type": "markdown",
   "metadata": {},
   "source": [
    "В numpy:"
   ]
  },
  {
   "cell_type": "code",
   "execution_count": null,
   "metadata": {},
   "outputs": [],
   "source": [
    "a = np.array([\n",
    "    [10,20,30],\n",
    "    [40,50,60]\n",
    "])\n",
    "a"
   ]
  },
  {
   "cell_type": "markdown",
   "metadata": {},
   "source": [
    "Размер:"
   ]
  },
  {
   "cell_type": "code",
   "execution_count": null,
   "metadata": {},
   "outputs": [],
   "source": [
    "a.size"
   ]
  },
  {
   "cell_type": "markdown",
   "metadata": {},
   "source": [
    "Размерность:"
   ]
  },
  {
   "cell_type": "code",
   "execution_count": null,
   "metadata": {},
   "outputs": [],
   "source": [
    "a.shape"
   ]
  },
  {
   "cell_type": "markdown",
   "metadata": {},
   "source": [
    "Третий элемент второй строки"
   ]
  },
  {
   "cell_type": "code",
   "execution_count": null,
   "metadata": {},
   "outputs": [],
   "source": [
    "a[1, 2]"
   ]
  },
  {
   "cell_type": "markdown",
   "metadata": {},
   "source": [
    "Вторая строка"
   ]
  },
  {
   "cell_type": "code",
   "execution_count": null,
   "metadata": {},
   "outputs": [],
   "source": [
    "a[1, :]"
   ]
  },
  {
   "cell_type": "markdown",
   "metadata": {},
   "source": [
    "Второй столбец"
   ]
  },
  {
   "cell_type": "code",
   "execution_count": null,
   "metadata": {},
   "outputs": [],
   "source": [
    "a[:, 1]"
   ]
  },
  {
   "cell_type": "code",
   "execution_count": null,
   "metadata": {},
   "outputs": [],
   "source": [
    "a[1:, :]"
   ]
  },
  {
   "cell_type": "code",
   "execution_count": null,
   "metadata": {},
   "outputs": [],
   "source": [
    "a[:, :2]"
   ]
  },
  {
   "cell_type": "markdown",
   "metadata": {},
   "source": [
    "Диагональная матрица"
   ]
  },
  {
   "cell_type": "code",
   "execution_count": null,
   "metadata": {},
   "outputs": [],
   "source": [
    "np.diag([1, 2, 3])"
   ]
  },
  {
   "cell_type": "markdown",
   "metadata": {},
   "source": [
    "Единичная матрица"
   ]
  },
  {
   "cell_type": "code",
   "execution_count": null,
   "metadata": {},
   "outputs": [],
   "source": [
    "np.eye(10)"
   ]
  },
  {
   "cell_type": "markdown",
   "metadata": {},
   "source": [
    "Сложение матриц"
   ]
  },
  {
   "cell_type": "code",
   "execution_count": null,
   "metadata": {},
   "outputs": [],
   "source": [
    "a = np.array([1, 2, 3, 4, 5, 6]).reshape(2, 3)"
   ]
  },
  {
   "cell_type": "code",
   "execution_count": null,
   "metadata": {},
   "outputs": [],
   "source": [
    "a"
   ]
  },
  {
   "cell_type": "code",
   "execution_count": null,
   "metadata": {},
   "outputs": [],
   "source": [
    "b = np.array([1, 1, 1, 1, 1, 1]).reshape(2, 3)"
   ]
  },
  {
   "cell_type": "code",
   "execution_count": null,
   "metadata": {},
   "outputs": [],
   "source": [
    "b"
   ]
  },
  {
   "cell_type": "code",
   "execution_count": null,
   "metadata": {},
   "outputs": [],
   "source": [
    "a + b"
   ]
  },
  {
   "cell_type": "code",
   "execution_count": null,
   "metadata": {},
   "outputs": [],
   "source": [
    "b + a"
   ]
  },
  {
   "cell_type": "code",
   "execution_count": null,
   "metadata": {},
   "outputs": [],
   "source": [
    "c = np.array([2, 2, 2, 2, 2, 2]).reshape(2,3)"
   ]
  },
  {
   "cell_type": "code",
   "execution_count": null,
   "metadata": {},
   "outputs": [],
   "source": [
    "np.array_equal((a + b) + c, a + (b + c))"
   ]
  },
  {
   "cell_type": "markdown",
   "metadata": {},
   "source": [
    "Умножение матрицы на число"
   ]
  },
  {
   "cell_type": "code",
   "execution_count": null,
   "metadata": {},
   "outputs": [],
   "source": [
    "a * 10"
   ]
  },
  {
   "cell_type": "markdown",
   "metadata": {},
   "source": [
    "Проверьте другие математические свойства"
   ]
  },
  {
   "cell_type": "markdown",
   "metadata": {},
   "source": [
    "### Умножение матриц"
   ]
  },
  {
   "cell_type": "markdown",
   "metadata": {},
   "source": [
    "Рассмотрим матрицы:   \n",
    "    a размерностью l \\* m   \n",
    "    b размерностью m \\* n  \n",
    "    \n",
    "Считаем набор скалярных произведений - строка на столбец по порядку"
   ]
  },
  {
   "cell_type": "code",
   "execution_count": null,
   "metadata": {},
   "outputs": [],
   "source": [
    "a = np.array([2, 0, 4, -1, 1, -1, 1, 0]).reshape(2,4)\n",
    "b = np.array([2, 1, 0, -2]).reshape(4,1)"
   ]
  },
  {
   "cell_type": "code",
   "execution_count": null,
   "metadata": {},
   "outputs": [],
   "source": [
    "a"
   ]
  },
  {
   "cell_type": "code",
   "execution_count": null,
   "metadata": {},
   "outputs": [],
   "source": [
    "b"
   ]
  },
  {
   "cell_type": "code",
   "execution_count": null,
   "metadata": {},
   "outputs": [],
   "source": [
    "c = [\n",
    "    [2*2 + 0*1 + 4*0 + -1*-2], \n",
    "    [1*2 + (-1)*1 + 1*0 + 0*-2]\n",
    "]"
   ]
  },
  {
   "cell_type": "code",
   "execution_count": null,
   "metadata": {},
   "outputs": [],
   "source": [
    "c"
   ]
  },
  {
   "cell_type": "code",
   "execution_count": null,
   "metadata": {},
   "outputs": [],
   "source": [
    "c = a.dot(b)"
   ]
  },
  {
   "cell_type": "code",
   "execution_count": null,
   "metadata": {},
   "outputs": [],
   "source": [
    "c"
   ]
  },
  {
   "cell_type": "code",
   "execution_count": null,
   "metadata": {},
   "outputs": [],
   "source": [
    "b.dot(a)"
   ]
  },
  {
   "cell_type": "code",
   "execution_count": null,
   "metadata": {},
   "outputs": [],
   "source": [
    "np.array([1, 2, 3, 4]) * np.array([1, 2, 3, 4])"
   ]
  },
  {
   "cell_type": "markdown",
   "metadata": {},
   "source": [
    "упражнения. Проверьте свойства операций над матрицами"
   ]
  },
  {
   "cell_type": "markdown",
   "metadata": {},
   "source": [
    "### Транспонирование - замена строк на столбцы"
   ]
  },
  {
   "cell_type": "code",
   "execution_count": null,
   "metadata": {},
   "outputs": [],
   "source": [
    "a"
   ]
  },
  {
   "cell_type": "code",
   "execution_count": null,
   "metadata": {},
   "outputs": [],
   "source": [
    "\n",
    "a.T"
   ]
  },
  {
   "cell_type": "markdown",
   "metadata": {},
   "source": [
    "### Определитель матрицы\n",
    "\n",
    "Определитель квадратной матрицы. Выразим через рекурсивную формулу\n",
    "\n",
    "$$ \\Delta = \\sum_{j=1}^{n}(-1)^{1+j}a_{1j} \\bar{M}_j^1 $$\n",
    "\n",
    "где $\\bar{M}_j^1 $ - дополнительный минор к элементу $a_{1j}$\n",
    "\n",
    "Дополнительный минор - определитель матрицы, полученной вычеркиванием первой строки и $j$ столбца\n",
    "\n",
    "\n",
    "Пример:\n",
    "\n",
    "Найдем определитель матрицы размером $3 \\times 3$:\n",
    "\n",
    "$M = \\begin{bmatrix}\n",
    "  1 & 2 & 3 \\\\\n",
    "  4 & 5 & 6 \\\\\n",
    "  7 & 8 & 0\n",
    "\\end{bmatrix}$\n",
    "\n",
    "Применяем формулу:\n",
    "\n",
    "$det(M) = 1 \\times \\left | \\begin{bmatrix} 5 & 6 \\\\ 8 & 0 \\end{bmatrix} \\right |\n",
    "     - 2 \\times \\left | \\begin{bmatrix} 4 & 6 \\\\ 7 & 0 \\end{bmatrix} \\right |\n",
    "     + 3 \\times \\left | \\begin{bmatrix} 4 & 5 \\\\ 7 & 8 \\end{bmatrix} \\right |$\n",
    "\n",
    "Расчитаем определители каждой из этих матриц размером $2 \\times 2$  (**дополнительные миноры**):\n",
    "\n",
    "$\\left | \\begin{bmatrix} 5 & 6 \\\\ 8 & 0 \\end{bmatrix} \\right | = 5 \\times 0 - 6 \\times 8 = -48$\n",
    "\n",
    "$\\left | \\begin{bmatrix} 4 & 6 \\\\ 7 & 0 \\end{bmatrix} \\right | = 4 \\times 0 - 6 \\times 7 = -42$\n",
    "\n",
    "$\\left | \\begin{bmatrix} 4 & 5 \\\\ 7 & 8 \\end{bmatrix} \\right | = 4 \\times 8 - 5 \\times 7 = -3$\n",
    "\n",
    "Подсчитаем результат:\n",
    "\n",
    "$det(M) = 1 \\times (-48) - 2 \\times (-42) + 3 \\times (-3) = 27$"
   ]
  },
  {
   "cell_type": "code",
   "execution_count": null,
   "metadata": {},
   "outputs": [],
   "source": [
    "m = np.array([\n",
    "        [1, 2, 3],\n",
    "        [4, 5, 6],\n",
    "        [7, 8, 0]\n",
    "    ])\n",
    "la.det(m)"
   ]
  },
  {
   "cell_type": "markdown",
   "metadata": {},
   "source": [
    "### Сложность вычисления определителя матрицы\n",
    "\n",
    "|Алгоритм|Сложность|\n",
    "|---|---|\n",
    "|Laplace expansion|$O(n!)$|\n",
    "|Division-free algorithm|$O(n^4)$|\n",
    "|LU decomposition|$O(n^3)$|\n",
    "|Bareiss algorithm|$O(n^3)$|\n",
    "|Fast matrix multiplication|$O(n^{2.373})$|\n",
    "\n",
    "\t\n",
    "\t\n",
    "\t\n",
    "\t"
   ]
  },
  {
   "cell_type": "code",
   "execution_count": null,
   "metadata": {},
   "outputs": [],
   "source": [
    "import time\n",
    "times = []\n",
    "counts = []\n",
    "for n in range(2, 1000, 100):\n",
    "    counts.append(n)\n",
    "    times_local = []\n",
    "    \n",
    "    for i in range(100):\n",
    "        m = np.random.rand(n,n)\n",
    "        start_time = time.time()\n",
    "        la.det(m)\n",
    "        end_time = time.time()\n",
    "        times_local.append(end_time - start_time)\n",
    "        \n",
    "    times.append(np.average(times_local))\n",
    "print(times)"
   ]
  },
  {
   "cell_type": "code",
   "execution_count": null,
   "metadata": {},
   "outputs": [],
   "source": [
    "%matplotlib inline\n",
    "\n",
    "import matplotlib.pyplot as plt\n",
    "plt.plot(counts, times)\n",
    "plt.ylabel('time')\n",
    "plt.xlabel('matrix size')\n",
    "plt.show()\n"
   ]
  },
  {
   "cell_type": "markdown",
   "metadata": {},
   "source": [
    "### Обратная матрица"
   ]
  },
  {
   "cell_type": "markdown",
   "metadata": {},
   "source": [
    "Обратная матрица — такая матрица $A^{−1}$, при умножении на которую исходная матрица A даёт в результате единичную матрицу E:\n",
    "\n",
    "$AA^{-1}=E$\n",
    "\n",
    "Существует только для квадратной матрицы  \n",
    "\n",
    "**!** Если квадратная матрица $A$ имеет обратную матрицу, то обратная матрица единственная  \n",
    "**!** Для того чтобы квадратная матрица $A$ порядка $n$ имела обратную, необходимо и достаточно, чтобы $detA\\neq0$  \n",
    "**!** Если квадратная матрица матрица $A$ имеет обратную, то $detA^{-1}=(detA)^{-1}$  \n",
    "**!** Если квадратные матрицы $A$ и $B$ порядка $n$ имеют обратные матрицы, то их произведение имеет обратную матрицу, причем $(AB)^{-1}=B^{-1}A^{-1}$  \n",
    "**!** Если матрица $A$ порядка $n$ имеет обратную, то и транспонированная матрица $A^T$ имеет обратную, причем $(A^T)^{-1}=(A^{-1})^T$  \n",
    "\n",
    "\n",
    "Алгебраическим дополнением $A_{ij}$ к элементу $a_{ij}$ определителя $n$-го порядка называется число $A_{ij}=(-1)^{i+j}\\cdot M_{ij}$\n",
    "\n",
    "**Пример**:\n",
    "Найти алгебраическое дополнение $A_{23}$  к элементу $a_{23}$ матрицы $\\begin{bmatrix} 1 & 2 & -1 \\\\ 1 & 0 & 3 \\\\ 7 & 8 & 4 \\end{bmatrix} $\n",
    "\n",
    "\n",
    "\n",
    "$A_{23}=(-1)^{2+3}\\cdot \\bar M_3^2=(-1)^5 \\cdot \\left | \\begin{bmatrix} 1 & 2 \\\\ 7 & 8 \\end{bmatrix} \\right | = -1 (1\\cdot8-7\\cdot2) = -8+14 = 6$\n",
    "\n",
    "Матрица $A*$, транспонированную к матрице $(A_{ij})$ алгебраических дополнений, называют присоединенной. Если $A$ - невырожденная матрица, то обратная к ней имеет вид $$A^{-1}=\\frac{1}{detA}A^*$$\n",
    "\n",
    "**Пример**. Выяснить, есть ли у матрицы $A= \\begin{bmatrix} 1 & 2 \\\\ 3 & 4 \\end{bmatrix} $ обратная. И если есть, найти.\n",
    "\n",
    "$detA=1\\cdot4-3\\cdot2=-2$, поэтому $A$ является невырожденной и имеет обратную\n",
    "\n",
    "${A^*}^T = \\begin{bmatrix} 4 & -3 \\\\ -2 & 1 \\end{bmatrix}, A^* = \\begin{bmatrix} 4 & -2 \\\\ -3 & 1 \\end{bmatrix}$  \n",
    "$A^{-1} = - \\frac{1}{2} \\begin{bmatrix} 4 & -2 \\\\ -3 & 1 \\end{bmatrix}  = \\begin{bmatrix} -2 & 1 \\\\ 1.5 & -0.5 \\end{bmatrix}$\n",
    "\n",
    "Проверим:\n",
    "\n",
    "$AA^{-1} = \\begin{bmatrix} 1 & 2 \\\\ 3 & 4 \\end{bmatrix} \\begin{bmatrix} -2 & 1 \\\\ 1.5 & -0.5 \\end{bmatrix} =  \\begin{bmatrix} 1 & 0 \\\\ 0 & 1 \\end{bmatrix}$\n",
    "\n",
    "$A^{-1}A = \\begin{bmatrix} -2 & 1 \\\\ 1.5 & -0.5 \\end{bmatrix} \\begin{bmatrix} 1 & 2 \\\\ 3 & 4 \\end{bmatrix} =  \\begin{bmatrix} 1 & 0 \\\\ 0 & 1 \\end{bmatrix}$"
   ]
  },
  {
   "cell_type": "code",
   "execution_count": null,
   "metadata": {},
   "outputs": [],
   "source": [
    "la.inv(np.array([\n",
    "        [1, 2],\n",
    "        [3, 4]\n",
    "    ]))"
   ]
  },
  {
   "cell_type": "markdown",
   "metadata": {},
   "source": [
    "### Сложность вычисления обратной матрицы\n",
    "\n",
    "|Алгоритм|Сложность|\n",
    "|---|---|\n",
    "|Gauss–Jordan elimination|$O(n^3)$|\n",
    "|Strassen algorithm|$O(n^{2.807})$|\n",
    "|Coppersmith–Winograd algorithm|$O(n^{2.376})$|\n",
    "|Optimized CW-like algorithms|$O(n^{2.373})$|\n",
    "\n",
    "\t\n",
    "\t\n",
    "\t\n",
    "\t"
   ]
  },
  {
   "cell_type": "code",
   "execution_count": null,
   "metadata": {},
   "outputs": [],
   "source": [
    "import time\n",
    "times = []\n",
    "counts = []\n",
    "for n in range(2, 1000, 100):\n",
    "    counts.append(n)\n",
    "    times_local = []\n",
    "    \n",
    "    for i in range(100):\n",
    "        m = np.random.rand(n,n)\n",
    "        start_time = time.time()\n",
    "        la.inv(m)\n",
    "        end_time = time.time()\n",
    "        times_local.append(end_time - start_time)\n",
    "        \n",
    "    times.append(np.average(times_local))\n",
    "print(times)"
   ]
  },
  {
   "cell_type": "code",
   "execution_count": null,
   "metadata": {},
   "outputs": [],
   "source": [
    "%matplotlib inline\n",
    "\n",
    "import matplotlib.pyplot as plt\n",
    "plt.plot(counts, times)\n",
    "plt.ylabel('time')\n",
    "plt.xlabel('matrix size')\n",
    "plt.show()\n"
   ]
  },
  {
   "cell_type": "markdown",
   "metadata": {},
   "source": [
    "## Собственные числа и собственные векторы"
   ]
  },
  {
   "cell_type": "markdown",
   "metadata": {},
   "source": [
    "Ненулевой вектор $x$ в линейном пространстве $\\mathcal{L}$ называют **собственным вектором линейного оператора** $A: \\mathcal{L} \\to\\mathcal{L}$, если для некоторого действительного числа $\\lambda$ выполняется соотношение $Ax=\\lambda x$. При этом число $\\lambda$ называют **собственным значением (собственным числом)** оператора $A$."
   ]
  },
  {
   "cell_type": "markdown",
   "metadata": {},
   "source": [
    "Рассмотрим матрицу\n",
    "\n",
    "$$A= \\begin{bmatrix} -1 & -6 \\\\ 2 & 6 \\end{bmatrix} $$\n",
    "\n",
    "Умножим на матрицу\n",
    "\n",
    "$$\\begin{bmatrix} 2 \\\\ -1 \\end{bmatrix}$$\n",
    "\n",
    "$$\\begin{bmatrix} -1 & -6 \\\\ 2 & 6 \\end{bmatrix} \\times \\begin{bmatrix} 2 \\\\ -1 \\end{bmatrix} = \n",
    "\\begin{bmatrix} -1 \\cdot 2 + 6\\cdot 1  \\\\ 2 \\cdot 2 - 6 \\cdot 1 \\end{bmatrix} = \n",
    "\\begin{bmatrix} 4  \\\\ -2  \\end{bmatrix} = 2\\begin{bmatrix} 2  \\\\ -1  \\end{bmatrix}$$"
   ]
  },
  {
   "cell_type": "markdown",
   "metadata": {},
   "source": [
    "Смысл этих понятий следующий:\n",
    "\n",
    "Матрица является оператором, делающим преобразование в пространстве - поворот, сдвиг и пр. \n",
    "Для оператора мы вычисляем вектора и числа такие, что при применении к вектору оператора получаем масштабирование вектора."
   ]
  },
  {
   "cell_type": "code",
   "execution_count": null,
   "metadata": {},
   "outputs": [],
   "source": [
    "m = np.array([-1, -6, 2, 6]).reshape(2, 2)\n",
    "print(la.eig(m))\n",
    "v = np.array([2, -1])\n",
    "print(v / la.norm(v))\n"
   ]
  },
  {
   "cell_type": "markdown",
   "metadata": {},
   "source": [
    "## matrix cookbook\n",
    "\n",
    "https://www.math.uwaterloo.ca/~hwolkowi/matrixcookbook.pdf"
   ]
  },
  {
   "cell_type": "markdown",
   "metadata": {},
   "source": [
    "\n",
    "## Производная"
   ]
  },
  {
   "cell_type": "markdown",
   "metadata": {},
   "source": [
    "Точку $b \\in \\mathbb R$ называют пределом функции $f(x)$ в точке $a \\in \\mathbb R$, если, каково бы ни было положительное число $\\epsilon$, найдется положительное число $\\delta$, такое, что для всех точек проколотой $\\delta$-окрестности точки $a$ значения функции принадлежат $\\epsilon$-окрестности точки $b$"
   ]
  },
  {
   "cell_type": "markdown",
   "metadata": {},
   "source": [
    "<img src=\"limit.png\" width=250>"
   ]
  },
  {
   "cell_type": "markdown",
   "metadata": {},
   "source": [
    "Для произвольной функции $y=f(x)$ с отношение приращений называется **разностным отношением**\n",
    "\n",
    "$$ \\frac{\\Delta y}{\\Delta x} = \\frac{\\Delta f(a)}{\\Delta x}=\\frac{f(a+\\Delta x) - f(a)}{\\Delta x} = \\varphi (\\Delta x)$$"
   ]
  },
  {
   "cell_type": "markdown",
   "metadata": {},
   "source": [
    "Пусть функция $y=f(X)$ определена в точке $x=a$ и некоторой её окрестности.\n",
    "\n",
    "**Производной** $f'(a)$ **функции** $f(x)$ в фиксированной точке $x=a$ называют предел при $\\Delta x \\rightarrow 0$ разностного отношения (при условии, что этот предел существует), т.е.\n",
    "\n",
    "$$ f'(x) = \\lim_{\\Delta x \\rightarrow 0} \\frac{\\Delta f(a)}{\\Delta x}=\\lim_{\\Delta x \\rightarrow 0} \\frac{f(a+\\Delta x) - f(a)}{\\Delta x}$$"
   ]
  },
  {
   "cell_type": "markdown",
   "metadata": {},
   "source": [
    "Пусть функции $u(x)$ и $v(x)$ дифференцируемы в точке $x$. Тогда в этой точке дифференцируемы их сумма (разность), произведение и частное (последнее при условии $v(x) \\neq 0$), причем (опуская в обозначениях аргумент $x$) справедливы равенства:\n",
    "\n",
    "\n",
    "1. $(u+v)'=u'+v'$\n",
    "1. $(uv)'=u'v+uv'$\n",
    "1. $(\\frac{u}{v})'=\\frac{u'v-uv'}{v^2}$"
   ]
  },
  {
   "cell_type": "markdown",
   "metadata": {},
   "source": [
    "Производная сложной функции $F(x) = y(u(x))$ по независимому переменному $x$ равна произведению производной функции  $y(u)$ по промежуточному аргементу $u$ и промежуточного аргумента $u(x)$ по $x$, т.е. \n",
    "\n",
    "$$F'(x) = y'_u\\rvert _{u=u(x)}u'(x)$$"
   ]
  },
  {
   "cell_type": "markdown",
   "metadata": {},
   "source": [
    "Основные правила дифференцирования\n",
    "\n",
    "1. $y=Cu\\quad (C=const) \\hspace{50pt} y'=Cu'$\n",
    "1. $y=u\\pm v  \\hspace{93pt} y'=u'\\pm v'$\n",
    "1. $y=uv \\hspace{103pt} y'=u'v+uv'$\n",
    "1. $y=\\frac{u}{v}\\quad (v\\neq 0) \\hspace{69pt} y'=\\frac{u'v-uv'}{v^2}$\n",
    "1. $y=f(u),\\quad u=u(x)\\hspace{52pt} y'_x=f'_uu'$\n",
    "1. $y=f(x),\\quad x=f^{-1}(y) \\hspace{45pt} x'_y=\\frac{1}{y'_x} \\quad (y'_x \\neq 0)$\n",
    "1. $y= \\begin{cases} y=y(t), \\\\ x=x(t) \\end{cases} \\hspace{65pt} \\begin{cases} y'_x=\\frac{y'_t}{x'_t} & (x'_t \\neq 0) \\\\ x=x(t) \\end{cases}$"
   ]
  },
  {
   "cell_type": "markdown",
   "metadata": {},
   "source": [
    "**Производные элементарных функций**\n",
    "\n",
    "1. $(C)'=0 \\quad (C=const)$\n",
    "2. $(u^s)' = su^{s-1}\\cdot u'$  \n",
    "при $s=1/2 \\quad (\\sqrt{u})'=\\frac{1}{2\\sqrt{u}}\\cdot u'$  \n",
    "при $s=-1 \\quad (\\frac{1}{u})'=-\\frac{1}{u^2}\\cdot u'$\n",
    "3. $(a^u)'=a^ulna\\cdot u' \\quad (a>0, a\\neq1),$  \n",
    "$(e^u)'=e^u\\cdot u'$\n",
    "4. $(\\log_au)'=\\frac{1}{u\\ln a}\\cdot u' \\quad (a>0, a \\neq 1)$  \n",
    "$(\\ln u)'=\\frac{1}{u}\\cdot u'$\n",
    "5. $(\\sin u)'=\\cos u \\cdot u'$\n",
    "6. $(\\cos u)'=-\\sin u \\cdot u'$\n",
    "7. $(tg u)'=\\frac{1}{\\cos^2u} \\cdot u'$\n",
    "8. $(ctg u)'=-\\frac{1}{\\sin^2u} \\cdot u'$\n",
    "9. $(\\arcsin u)'=\\frac{1}{\\sqrt{1-u^2}} \\cdot u'$\n",
    "10. $(\\arccos u)'=-\\frac{1}{\\sqrt{1-u^2}} \\cdot u'$\n",
    "11. $(arctg u)'=\\frac{1}{1+u^2} \\cdot u'$\n",
    "12. $(arcctg u)'=-\\frac{1}{1+u^2} \\cdot u'$\n",
    "13. $(sh u)'=ch u \\cdot u'$\n",
    "14. $(ch u)'=sh u \\cdot u'$\n",
    "15. $(th u)'=\\frac{1}{ch^2 u} \\cdot u'$\n",
    "16. $(cth u)'=-\\frac{1}{sh^2 u} \\cdot u'$"
   ]
  },
  {
   "cell_type": "markdown",
   "metadata": {},
   "source": [
    "### Производная векторной функции многих переменных\n",
    "\n",
    "Для векторной функции $f(x,y)=(xe^{-y} \\quad x^2y^3 \\quad y)^{T}$ двух переменных $x$ и $y$ найдем все частные производные и запишем матрицу Якоби.\n",
    "\n",
    "Данная функция имеет три координатные функции $u(x,y)=xe^{-y}$, $v(x,y)=x^2y^3$ и $w(x,y)=y$. Вычисляем частные производные этих функций:\n",
    "\n",
    "$$u'_x(x,y)=e^{-y}$$\n",
    "$$v'_x(x,y)=2xy^3$$\n",
    "$$w'_x(x,y)=0$$\n",
    "$$u'_y(x,y)=-xe^{-y}$$\n",
    "$$v'_y(x,y)=3x^2y^2$$\n",
    "$$w'_y(x,y)=1$$\n",
    "\n",
    "Составляем из вычисленных частных производных матрицу Якоби:\n",
    "\n",
    "$$f'(x, y)= \\begin{pmatrix} u'_x(x,y) & u'_y(x,y) \\\\ v'_x(x,y) & v'_y(x,y) \\\\ w'_x(x,y) & w'_y(x,y) \\end{pmatrix} = \\begin{pmatrix} =e^{-y} & -xe^{-y} \\\\ 2xy^3 & 3x^2y^2 \\\\ 0 & 1 \\end{pmatrix} $$"
   ]
  },
  {
   "cell_type": "markdown",
   "metadata": {},
   "source": [
    "### Градиент\n",
    "\n",
    "Найдем градиент скалярной функции $u=x^2-2y^3+\\cos {xz}$ трех переменных $x$, $y$ и $z$ в точке $M(2;1;0)$.\n",
    "\n",
    "Функция $u=x^2-2y^3+\\cos {xz}$ дифференцируема в любой точке в $\\mathbb R^3$. Найдем ее частные производные первого порядка в произвольной точке $(x,y,z)$:\n",
    "\n",
    "$$u'_x=2x-z\\sin{xz}$$\n",
    "$$u'_y=-6y^2$$\n",
    "$$u'_z=-x\\sin{xz}$$\n",
    "\n",
    "градиент функции $u(x,y,z)$ существует в любой точке и имеет вид \n",
    "\n",
    "$$grad u(x,y,z)=(2x-z\\sin{xz}, -6y^2, -x\\sin{xz})$$\n",
    "\n",
    "Подставляя в это выражение координаты точки $M(2;1;0)$, находим $gradu(2,1,0)=(4,-6,0)$"
   ]
  },
  {
   "cell_type": "markdown",
   "metadata": {},
   "source": [
    "### Применение дифференцирования\n",
    "\n",
    "Рассмотрим задачу поиска экстремума функции\n",
    "\n",
    "$$ x^3+2xy+y^2 \\rightarrow extr$$\n",
    "\n",
    "Функция является *бесконечно дифференцируемой*. Поэтому точки экстремума - точки, которые можно найти, приравняв нулю частные производные функции первого порядка:\n",
    "\n",
    "$$ \\begin{cases}f'_x(x,y)=0 \\\\ f'_y(x,y)=0 \\end{cases}$$\n",
    "В нашем случае получим систему уравнений:\n",
    "$$ \\begin{cases}3x^2+2y=0 \\\\ 2x+2y=0 \\end{cases}$$\n",
    "\n",
    "Из второго уравнения получим $x=-y$, и после подстановки в первое уравнение получим $3y^2+2y=0$.\n",
    "\n",
    "Следовательно система имеет два решения:\n",
    "\n",
    "$y_1=0, x_1=0$ и $y_2=-\\frac{2}{3}, x_2=\\frac{2}{3}$"
   ]
  },
  {
   "cell_type": "code",
   "execution_count": null,
   "metadata": {},
   "outputs": [],
   "source": [
    "%matplotlib inline\n",
    "import numpy as np\n",
    "\n",
    "import matplotlib.pyplot as plt\n",
    "import random\n",
    "from matplotlib import cm\n",
    "\n",
    "def fun(x, y):\n",
    "      return x**3 + 2*x*y + y**2\n",
    "\n",
    "fig = plt.figure()\n",
    "ax = fig.add_subplot(111)\n",
    "x = y = np.arange(-1.0, 1.0, 0.05)\n",
    "X, Y = np.meshgrid(x, y)\n",
    "zs = np.array([fun(x,y) for x,y in zip(np.ravel(X), np.ravel(Y))])\n",
    "Z = zs.reshape(X.shape)\n",
    "\n",
    "plt.contourf(X,Y,Z) #reshape Z too!\n",
    "plt.colorbar()\n",
    "plt.scatter([0, 2/3.], [0, -2/3.], marker='o', s=5, zorder=10, color='red')\n"
   ]
  },
  {
   "cell_type": "code",
   "execution_count": null,
   "metadata": {},
   "outputs": [],
   "source": [
    "%matplotlib notebook\n",
    "from mpl_toolkits.mplot3d import Axes3D\n",
    "fig = plt.figure()\n",
    "ax = fig.add_subplot(111, projection='3d')\n",
    "\n",
    "ax.plot_surface(X, Y, Z, cmap=cm.coolwarm)\n",
    "\n",
    "ax.set_xlabel('X Label')\n",
    "ax.set_ylabel('Y Label')\n",
    "ax.set_zlabel('Z Label')\n",
    "\n",
    "plt.show()"
   ]
  },
  {
   "cell_type": "code",
   "execution_count": null,
   "metadata": {},
   "outputs": [],
   "source": [
    "%matplotlib inline\n",
    "import numpy as np\n",
    "\n",
    "import matplotlib.pyplot as plt\n",
    "import random\n",
    "from matplotlib import cm\n",
    "\n",
    "def fun(x, y):\n",
    "      return x**2 + y**2\n",
    "\n",
    "fig = plt.figure()\n",
    "ax = fig.add_subplot(111)\n",
    "x = y = np.arange(-1.0, 1.0, 0.05)\n",
    "X, Y = np.meshgrid(x, y)\n",
    "zs = np.array([fun(x,y) for x,y in zip(np.ravel(X), np.ravel(Y))])\n",
    "Z = zs.reshape(X.shape)\n",
    "\n",
    "plt.contourf(X,Y,Z) #reshape Z too!\n",
    "plt.colorbar()\n",
    "plt.scatter([0], [0], marker='o', s=5, zorder=10, color='red')\n"
   ]
  },
  {
   "cell_type": "code",
   "execution_count": null,
   "metadata": {},
   "outputs": [],
   "source": [
    "%matplotlib notebook\n",
    "from mpl_toolkits.mplot3d import Axes3D\n",
    "fig = plt.figure()\n",
    "ax = fig.add_subplot(111, projection='3d')\n",
    "\n",
    "ax.plot_surface(X, Y, Z, cmap=cm.coolwarm)\n",
    "\n",
    "ax.set_xlabel('X Label')\n",
    "ax.set_ylabel('Y Label')\n",
    "ax.set_zlabel('Z Label')\n",
    "\n",
    "plt.show()"
   ]
  },
  {
   "cell_type": "markdown",
   "metadata": {},
   "source": [
    "## Интеграл\n",
    "\n",
    "функцию $F(x)$ называют первообразной функции $f(x)$ в промежутке $X$, если $F(x)$ дифференцируема в этом промежутке и для любого $x \\in X$ значение производной $F'(x)$ совпадает со значением функции $f(x)$.\n",
    "\n",
    "Множество всех первообразных функции $f(x)$ в некотором промежутке называют неопределенным интегралом от этой функции в данном промежутке и обозначают $\\int f(x)dx$. При этом символ $\\int$ именуют знаком интеграла, $f(x)$ - подынтегральной функцией, $f(x)dx$ - подынтегральным выражением, а $x$ - переменным интегрирования.\n",
    "\n",
    "$$\\int f(x)dx=F(x) + C$$\n",
    "\n",
    "**Свойства**\n",
    "\n",
    "1. $$\\left(\\int{f(x)dx}\\right)' = (F(x)+C)' = f(x)$$\n",
    "2. $$\\int{F'(x)dx} = F(x)+C$$\n",
    "3. Если $\\lambda \\in \\mathbb R \\backslash \\{0\\}$, то\n",
    "$$\\int \\lambda f(x)dx=\\lambda \\int f(x)dx$$\n",
    "4. $$\\int (\\lambda_1 f_1(x)+\\lambda_2 f_2(x))dx=\\lambda_1 \\int f_1(x)dx + \\lambda_2 \\int f_2(x)dx$$\n",
    "\n",
    "\n"
   ]
  },
  {
   "cell_type": "markdown",
   "metadata": {},
   "source": [
    "**Основные неопределенные интегралы**\n",
    "\n",
    "1. $\\int u^sdu=\\frac{u^{s+1}}{s+1} \\quad s \\neq -1$\n",
    "2. $\\int \\frac{du}{u}=ln|u|+C$\n",
    "3. $\\int a^udu=\\frac{a^u}{\\ln a}+C, a > 0, a \\neq 1$\n",
    "4. $\\int e^u du = e^u+C$\n",
    "5. $ \\int \\sin u du = -\\cos u + C$\n",
    "6. $\\int \\cos udu = \\sin u + C$\n",
    "7. $\\int \\frac{du}{\\cos^2u}=tg u + C$\n",
    "8. $\\int \\frac{du}{\\sin^2u}=-ctgu + C$\n",
    "9. $\\int shudu=chu+c$\n",
    "10. $\\int ch udu=shu+C$\n",
    "11. $\\int \\frac{du}{ch^2u}=thu+C$\n",
    "12. $\\int \\frac{du}{sh^2u}=-cthu+C$\n",
    "13. $\\int \\frac{du}{u^2+a^2}=\\frac{1}{a}arctg \\frac{u}{a}+C=-\\frac{1}{a}arcctg \\frac{u}{a}+C_1, a \\neq 0$\n",
    "14. $\\int \\frac{du}{u^2-a^2}=\\frac{1}{2a}\\ln |\\frac{u-a}{u+a}|+C$\n",
    "15. $\\int \\frac{du}{\\sqrt{a^2-u^2}}=arcsin \\frac{u}{a}+C=-arccos \\frac{u}{a}+C_1, a \\neq 0$\n",
    "16. $\\int \\frac{du}{\\sqrt{u^2+A}}=\\ln|{u+\\sqrt{u^2+A}}| + C$\n",
    "\n"
   ]
  },
  {
   "cell_type": "markdown",
   "metadata": {},
   "source": [
    "## Теория вероятностей"
   ]
  },
  {
   "cell_type": "markdown",
   "metadata": {},
   "source": [
    "**Элементарным исходом** (или элеэлементарным событием) называют любой простейший \n",
    "(т.е. неделимый в рамках данного опыта) исход опыта.   \n",
    "**Пример.** Выпадение герба после подбрасывания монеты.\n",
    "\n",
    "Множество всех элементарных исходов будем называть **пространством элементарных исходов**.  \n",
    "**Пример.** Шесть граней игральной кости.\n",
    "\n",
    "Любой набор элементарных исходов называют **событием**.\n",
    "\n",
    "Элементарные исходы в некотором опыте называют **равновозможными**, если в силу условий проведения опыта можно считать, что ни один из них не является объективно более возможным, чем другие.\n",
    "\n",
    "**Вероятностью** события $А$ называют отношение числа $N_a$ благоприятствующих событию $А$\n",
    "элементарных исходов к общему числу $N$ равновозможных элементарных исходов, т.е. $$P(A)=\\frac{N_A}{N}$$"
   ]
  },
  {
   "cell_type": "markdown",
   "metadata": {},
   "source": [
    "**Свойства**\n",
    "\n",
    "1. Вероятность противоположного события $P(\\overline{A})=1-P(A)$\n",
    "2. Вероятность невозможного события $P(\\emptyset)=0$\n",
    "3. Если $A \\subset b$, то $P(A) \\leq P(B)$ (\"большему\" события соответствует большая вероятность)\n",
    "4. Вероятность заключена между $0$ и $1$: $0 \\leq P(A) \\leq P(B)$\n",
    "5. Вероятность объединения двух событий $P(A\\cup B)=P(A)+P(B)-P(AB)$\n",
    "6. Вероятность объединения любого конечного числа событий (формула сложения)\n",
    "$$P(A_1\\cup ... \\cup A_n) = P(A_1)+...+P(A_n)-P(A_1A_2)-P(A_1A_3)-...-P(A_{n-1}A_n) + P(A_1A_2P_3)+...+(-1)^{n+1}P(A_1A_2...A_n)$$"
   ]
  },
  {
   "cell_type": "markdown",
   "metadata": {},
   "source": [
    "**Условная вероятность**\n",
    "Условную вероятность $Р(А|В)$ события $А$ при условии события $В$ определим как отношение\n",
    "числа $N_{ab}$ исходов, благоприятствующих совместному осущесуществлению событий $А$ и $В$, к числу $N_b$ исходов, благоприятствующих событию $B$, т.е. $$P(A|B)=\\frac{N_{AB}}{N_B}$$\n",
    "\n",
    "Отсюда $$P(A|B)=\\frac{N_{AB}/N}{N_B/N}=\\frac{P(AB)}{P(B)}$$"
   ]
  },
  {
   "cell_type": "markdown",
   "metadata": {},
   "source": [
    "**Формула умножения**\n",
    "\n",
    "Если $A=A_1A_2...A_n$ (т.е. $A$ - пересечение событий $A_1, A_2, ..., A_n$) и $P(A)>0$, то справедливо равенство \n",
    "$$ P(A)=P(A_1)P(A_2|A_1)P(A_3|A_1A_2)...P(A_n|A_1A_2...A_{n-1}) $$"
   ]
  },
  {
   "cell_type": "markdown",
   "metadata": {},
   "source": [
    "События являются **независимыми**, если $P(A|B)=P(A)$ или $P(B|A)=P(B)$\n",
    "\n",
    "События с ненулевой вероятностью являются независимыми тогда и только тогда, когда $$P(AB)=P(A)P(B)$$"
   ]
  },
  {
   "cell_type": "markdown",
   "metadata": {},
   "source": [
    "Пусть для некоторого события $А$ и гипотез $H_i,...,H_n$ известны $P(H_1),..., Р(H_n)$, которые положительны, и $P(A|H_1), ..., Р(А|Н_n)$. Тогда безусловную вероятность определяют по формуле \n",
    "$$P(A)= Р(H_1)Р(A|H_1) +... + Р(H_n) Р(А|H_n)$$\n",
    "которую называют **формулой полной вероятности**."
   ]
  },
  {
   "cell_type": "markdown",
   "metadata": {},
   "source": [
    "#### Теорема Байеса\n",
    "Пусть для некоторого события $А$ и гипотез $H_i,...,H_n$ известны $P(H_1),..., Р(H_n)$, которые положительны, и $P(A|H_1), ..., Р(А|Н_n)$. \n",
    "\n",
    "Из определения условной вероятности $$P(H_i|A)=\\frac{P(AH_i)}{P(A)}$$\n",
    "\n",
    "Используем формулу умножения $$P(AH_i)=P(H_i)P(A|H_i)$$\n",
    "и получим $$P(H_i|A)=\\frac{P(H_i)P(A|H_i)}{P(A)}$$\n",
    "\n",
    "Используем формулу полной вероятности, получим\n",
    "$$P(H_i|A)=\\frac{P(H_i)P(A|H_i)}{Р(H_1)Р(A|H_1) +... + Р(H_n) Р(А|H_n)}$$\n",
    "\n",
    "Или более распространенный вариант:\n",
    "\n",
    "$$P(AB)=P(A)P(B|A)=P(BA)=P(B)P(A|B) => P(B|A)=\\frac{P(B)P(A|B)}{P(A)}$$\n"
   ]
  },
  {
   "cell_type": "markdown",
   "metadata": {},
   "source": [
    "## Некоторые понятия из статистики\n",
    "\n",
    "**Медиана** - середина отсортированного массива (упорядоченной выборки). Для распределения - значение, для которого вероятность получить число справа или слева от этого значения равны 1/2.  \n",
    "**Мода** - значение во множестве наблюдений, которое встречается наиболее часто. Модой абсолютно непрерывного распределения называют любую точку локального максимума плотности распределения. Для дискретных распределений модой считают любое значение ai, вероятность которого pi больше, чем вероятности соседних значений.\n",
    "**Среднее** - частное от деления суммы элементов выборки на количество элементов в выборке.  \n",
    "**Квантиль** - значение, которое заданная случайная величина не превышает с фиксированной вероятностью. Для 50% - медиана. Для 25% и 75% - квартили. Еще типичные квантили - 95%, 99%, 99.9%"
   ]
  },
  {
   "cell_type": "markdown",
   "metadata": {},
   "source": [
    "### Функция распределения\n",
    "Функцией распределения (вероятностей) случайной величины $X$ называют функцию $F(x)$, значение которой в точке $х$ равно вероятности события $\\{X < x\\}$, т.е. события, состоящего из тех и только тех элементарных исходов $\\omega$, для которых $X(\\omega) < х$:\n",
    "$$F(x)=P\\{X<x\\}.$$\n",
    "Обычно говорят, что значение функции распределения в точке $х$ равно вероятности того, что случайная величина $X$\n",
    "примет значение, меньшее $х$.\n",
    "\n",
    "Свойства функции распределения\n",
    "1. $0\\leq F(X) \\leq 1$  \n",
    "2. $F(x_1) \\leq F(x_2)$ при $x_1 < x_2$ (т.е. $F(x)$ — неубывающая функция)  \n",
    "3. $F(-\\infty) = \\lim_{x\\rightarrow -\\infty} F(x)=0, F(-\\infty) = \\lim_{x\\rightarrow +\\infty} F(x)=1$\n",
    "4. $P{x_1 \\leq X < x_2} = F(x_2) - F(x_1)$\n",
    "5. $F(x) = F(x - 0)$, где $F(x - 0) = \\lim_{y\\rightarrow x-0} F(y)$ (т.е. $F(x)$ — непрерывная слева функция)."
   ]
  },
  {
   "cell_type": "markdown",
   "metadata": {},
   "source": [
    "Случайную величину $X$ называют **дискретной**, если множество ее возможных значений конечно или счетно"
   ]
  },
  {
   "cell_type": "markdown",
   "metadata": {},
   "source": [
    "**Непрерывной** называют случайную величину $Х$, функцию распределения которой $F(x)$ можно представить в виде\n",
    "\n",
    "$$F(X) = \\int\\limits_{-\\infty}^{x}p(x)dx$$\n",
    "\n",
    "Функцию $р(х)$ называют плотностью распределения (вероятностей) случайной величины $X$."
   ]
  },
  {
   "cell_type": "markdown",
   "metadata": {},
   "source": [
    "<img src='p_x.png'>"
   ]
  },
  {
   "cell_type": "markdown",
   "metadata": {},
   "source": [
    "Плотность распределения обладает следуюследующими свойствами:\n",
    "1. $p(x)>0$\n",
    "2. $P\\{x_1 \\leq X < x_2\\} = \\int\\limits_{x_1}^{x_2}p(x)dx$\n",
    "3. $\\int\\limits_{-\\infty}^{+\\infty}p(x)dx=1$\n",
    "4. $P\\{x \\leq X < x + \\Delta x\\} \\approx p(x)\\Delta x$ в точках непрерывности плотности распределения\n",
    "5. $P\\{X=x\\}=0$"
   ]
  },
  {
   "cell_type": "markdown",
   "metadata": {},
   "source": [
    "## Виды распределений\n"
   ]
  },
  {
   "cell_type": "markdown",
   "metadata": {
    "collapsed": true
   },
   "source": [
    "## Равномерное распределение\n",
    "\n",
    "Говорят, что случайная величина имеет непрерывное равномерное распределение на отрезке $ [a,b]$, где $a,b\\in \\mathbb {R} $, если её плотность $ p(x)$ имеет вид:\n",
    "\n",
    "$$p(x)= \\begin{cases}\\frac{1}{b-a}, x \\in [a, b] \\\\ 0, x \\notin [a,b] \\end{cases}$$"
   ]
  },
  {
   "cell_type": "markdown",
   "metadata": {},
   "source": [
    "Плотность распределения\n",
    "<img src=\"uniform_dist.png\">"
   ]
  },
  {
   "cell_type": "markdown",
   "metadata": {},
   "source": [
    "Функция распределения\n",
    "<img src=\"uniform_f.png\">"
   ]
  },
  {
   "cell_type": "markdown",
   "metadata": {},
   "source": [
    "## Нормальное распределение"
   ]
  },
  {
   "cell_type": "markdown",
   "metadata": {},
   "source": [
    "Нормальное распределение, также называемое распределением Гаусса или Гаусса — Лапласа — распределение вероятностей, которое в одномерном случае задаётся функцией плотности вероятности, совпадающей с функцией Гаусса:\n",
    "\n",
    "$$ p(x)={\\frac {1}{\\sigma {\\sqrt {2\\pi }}}}\\;e^{-{\\frac {(x-\\mu )^{2}}{2\\sigma ^{2}}}},$$\n",
    "\n",
    "\n",
    "где параметр μ — математическое ожидание (среднее значение), медиана и мода распределения, а параметр σ — среднеквадратическое отклонение (σ ² — дисперсия) распределения"
   ]
  },
  {
   "cell_type": "markdown",
   "metadata": {},
   "source": [
    "Плотность распределения\n",
    "<img src=\"norm_dist.png\">"
   ]
  },
  {
   "cell_type": "markdown",
   "metadata": {},
   "source": [
    "Функция распределения\n",
    "<img src=\"norm_f.png\">"
   ]
  },
  {
   "cell_type": "markdown",
   "metadata": {},
   "source": [
    "Центральная предельная теорема - сумма достаточно большого количества слабо зависимых случайных величин, имеющих примерно одинаковые масштабы (ни одно из слагаемых не доминирует, не вносит в сумму определяющего вклада), имеет распределение, близкое к нормальному."
   ]
  },
  {
   "cell_type": "markdown",
   "metadata": {},
   "source": [
    "**Математическим ожиданием** (средним значением) $MX$ **дискретной случайной величины** $X$ называют сумму произведений значений $x_i$ случайной величины и вероятностей $p_i = Р\\{Х = x_i\\}$, с которыми случайная величина принимает эти значения: $$MX = \\sum_ix_ip_i$$"
   ]
  },
  {
   "cell_type": "markdown",
   "metadata": {},
   "source": [
    "**Математическим ожиданием** (средним значением) $MX$ **непрерывной случайной величины** называют интеграл $$MX=\\int\\limits_{-\\infty}^{+\\infty}xp(x)dx$$"
   ]
  },
  {
   "cell_type": "markdown",
   "metadata": {
    "collapsed": true
   },
   "source": [
    "**Дисперсией** $DX$ случайной величины $X$ называют математическое ожидание квадрата отклонения\n",
    "случайной величины $X$ от ее среднего значения, т.е. $$DX=M(X-MX)^2$$\n",
    "\n",
    "**Свойства дисперсии**\n",
    "1. если случайная величина $X$ принимает всего одно значение $С$ с вероятностью единица, то $DC = 0$.\n",
    "2. $D(aX + b) = a^2DX$\n",
    "3. $DX=MX^2-(MX)^2$\n",
    "4. $D(X+Y)=DX+DY$ для независимых случайных величин $X$ и $Y$"
   ]
  },
  {
   "cell_type": "markdown",
   "metadata": {},
   "source": [
    "**Ковариация**\n",
    "\n",
    "Пусть $(X_1, X_2)$ — двумерный случайный вектор. **Ковариацией** (корреляционным моментом) $cov(X_1, X_2)$\n",
    "случайных величин $Х_1$ и $Х_2$ называют математическое ожидание произведения случайных величин $\\mathring{X}_1 = Х_1- МХ_1$ и $\\mathring{X}_2 = Х_2 - МХ_2$\n",
    "\n",
    "$$cov(X_1, Х_2) = М(\\mathring{Х}_1\\mathring{Х}_2) = М((Х_1 - МХ_1)(Х_2 - МХ_2))$$\n",
    "\n",
    "Запишем формулы, определяющие ковариацию.\n",
    "\n",
    "Для дискретных случайных величин $Х_1$ и $Х_2$:  \n",
    "$$cov(X_1, Х_2) = \\sum_{i,j}(x_i - MX_1)(x_j - MX_2)p_{ij}$$\n",
    "\n",
    "Для непрерывных случайных величин $Х_1$ и $Х_2$:  \n",
    "$$cov(X_1, Х_2) = \\int\\limits_{-\\infty}{+\\infty}\\int\\limits_{-\\infty}{+\\infty}(x_1-MX_1)(x_2-MX_2)p_{x_1x_2}(x_1,x_2)dx_1dx_2$$\n",
    "\n",
    "\n"
   ]
  },
  {
   "cell_type": "markdown",
   "metadata": {
    "collapsed": true
   },
   "source": [
    "Можно записать:\n",
    "$$D(X+Y)=DX+DY+2cov(X,Y)$$"
   ]
  },
  {
   "cell_type": "markdown",
   "metadata": {},
   "source": [
    "**Свойства ковариации**\n",
    "\n",
    "1. $cov(X,X)=DX$\n",
    "2. $cov(X_1,X_2)=0$ для независимых случайных величин $X_1$ и $X_2$\n",
    "3. Если $Y_1 = a_1X_1+b_1$ и $Y_2 = a_2X_2+b_2$, то $cov(Y_1,Y_2) = a_1a_2cov(X_1,X_2)$\n",
    "4. $-\\sqrt{DX_1DX_2} \\leq cov(X_1,X_2) \\leq \\sqrt{DX_1DX_2}$\n",
    "5. Равенство $|cov(X_1X_2)|= \\sqrt{DX_1DX_2}$ верно тогда и только тогда, когда случайные величины $Х_1$ и $Х_2$\n",
    "связаны линейной зависимостью, т.е. существуют такие числа $a$ и $b$, при которых $X_2 = aX_1-b$.\n",
    "6. $cov(X_1, X_2)=M(X_1X_2)-MX_1MX_2$"
   ]
  },
  {
   "cell_type": "markdown",
   "metadata": {},
   "source": [
    "Случайные величины $X$ и $У$ называют некоррелированными, если их ковариация равна нулю: $$cov(X,Y)=0$$"
   ]
  },
  {
   "cell_type": "markdown",
   "metadata": {},
   "source": [
    "**Матрицей ковариаций** (ковариационной матрицей) случайного вектора X называют матрицу\n",
    "$$\\Sigma=(\\sigma_{ij})=(cov(X_iX_j))$$\n",
    "\n",
    "Матрица ковариаций $\\Sigma$ является симметрической"
   ]
  },
  {
   "cell_type": "code",
   "execution_count": null,
   "metadata": {},
   "outputs": [],
   "source": [
    "x = np.array([[0, 2], [1, 1], [2, 0]]).T\n",
    "x"
   ]
  },
  {
   "cell_type": "code",
   "execution_count": null,
   "metadata": {},
   "outputs": [],
   "source": [
    "np.cov(x)"
   ]
  },
  {
   "cell_type": "code",
   "execution_count": null,
   "metadata": {},
   "outputs": [],
   "source": [
    "x = [-2.1, -1,  4.3]\n",
    "y = [3,  1.1,  0.12]\n",
    "X = np.vstack((x,y))\n",
    "print(np.cov(X))\n",
    "print(np.cov(x, y))"
   ]
  },
  {
   "cell_type": "markdown",
   "metadata": {},
   "source": [
    "\n",
    "**Коэффициентом корреляции** случайных величин $X$ и $У$ называют число $\\rho = \\frac{cov(X,Y)}{\\sqrt{DX\\cdot DY}}$"
   ]
  },
  {
   "cell_type": "markdown",
   "metadata": {},
   "source": [
    "**Свойства коэффициента корреляции**\n",
    "1. $\\rho(X,X)=1$\n",
    "2. Если случайные величины $X$ и $Y$ являются независимыми (и существуют $DX>0$ и $DY>0$), то $\\rho(X,Y)=0$\n",
    "3. $p(a_1X_1 + b_1, a_2X_2 + b_2) = \\pm p(X_1,X_2)$. При этом знак плюс нужно брать в том случае, когда $а_1$ и $a_2$ имеют одинаковые знаки, и минус — в противном случае.\n",
    "4. $-1 \\leq \\rho(X,Y) \\leq 1$\n",
    "5. $|\\rho(X,Y)|=1$ тогда и только тогда, когда случайные величины $X$ и $Y$ связаны линейной зависимостью.\n",
    "\n"
   ]
  },
  {
   "cell_type": "markdown",
   "metadata": {},
   "source": [
    "**Корреляционной (нормированной ковариационной) матрицей** случайного вектора $X$ называют матрицу $$P=(\\rho_{ij})=(\\rho(X_i, X_j))$$, состоящую из коэффициентов корреляций случайных величин $X_i$ и $X_j$.\n",
    "\n",
    "Корреляционная матрица $Р$ порядка $n$ имеет вид \n",
    "$$P=\\begin{bmatrix} 1 & \\rho_{12} & ... & \\rho_{1n} \\\\ \\rho_{21} & 1 & ... & \\rho_{2n} \\\\ ... & ... & ... & ... \\\\ \\rho_{n1} & \\rho_{n2} & ... & \\rho_{nn} \\end{bmatrix}$$"
   ]
  },
  {
   "cell_type": "markdown",
   "metadata": {},
   "source": [
    "<img src='Correlation_examples2.svg'>"
   ]
  },
  {
   "cell_type": "markdown",
   "metadata": {},
   "source": [
    "http://guessthecorrelation.com/"
   ]
  },
  {
   "cell_type": "code",
   "execution_count": null,
   "metadata": {},
   "outputs": [],
   "source": [
    "from scipy.stats.stats import pearsonr\n",
    "\n",
    "%matplotlib inline\n",
    "\n",
    "x = np.arange(100)\n",
    "delta = np.random.uniform(-3, 3, size=(100,))\n",
    "y = x + delta\n",
    "plt.scatter(x, y, c=\"g\", alpha=0.5)\n",
    "plt.xlabel(\"x\")\n",
    "plt.ylabel(\"y\")\n",
    "plt.show()\n",
    "pearsonr(x, y)"
   ]
  },
  {
   "cell_type": "code",
   "execution_count": null,
   "metadata": {},
   "outputs": [],
   "source": [
    "x = np.arange(100)\n",
    "delta = np.random.uniform(-3, 3, size=(100,))\n",
    "y = -x + 100 + delta\n",
    "plt.scatter(x, y, c=\"g\", alpha=0.5)\n",
    "plt.xlabel(\"x\")\n",
    "plt.ylabel(\"y\")\n",
    "plt.show()\n",
    "pearsonr(x, y)"
   ]
  },
  {
   "cell_type": "code",
   "execution_count": null,
   "metadata": {},
   "outputs": [],
   "source": [
    "from sklearn.datasets.samples_generator import make_blobs\n",
    "data, _ = make_blobs(n_samples=1000, centers=1, n_features=2)\n",
    "x = data[:, 0]\n",
    "y = data[:, 1]\n",
    "plt.scatter(x, y, c=\"g\", alpha=0.5)\n",
    "plt.xlabel(\"x\")\n",
    "plt.ylabel(\"y\")\n",
    "plt.show()\n",
    "pearsonr(x, y)"
   ]
  },
  {
   "cell_type": "code",
   "execution_count": null,
   "metadata": {},
   "outputs": [],
   "source": [
    "x = np.random.uniform(0, 100, size=(1000,))\n",
    "y = np.random.uniform(0, 100, size=(1000,))\n",
    "plt.scatter(x, y, c=\"g\", alpha=0.5)\n",
    "plt.xlabel(\"x\")\n",
    "plt.ylabel(\"y\")\n",
    "plt.show()\n",
    "pearsonr(x, y)"
   ]
  },
  {
   "cell_type": "code",
   "execution_count": null,
   "metadata": {},
   "outputs": [],
   "source": [
    "import pandas as pd\n",
    "path = 'http://archive.ics.uci.edu/ml/machine-learning-databases/auto-mpg/auto-mpg.data'\n",
    "\n",
    "mpg_data = pd.read_csv(path, delim_whitespace=True, header=None,\n",
    "            names = ['mpg', 'cylinders', 'displacement','horsepower',\n",
    "            'weight', 'acceleration', 'model_year', 'origin', 'name'],\n",
    "            na_values='?')"
   ]
  },
  {
   "cell_type": "code",
   "execution_count": null,
   "metadata": {},
   "outputs": [],
   "source": [
    "mpg_data.info()"
   ]
  },
  {
   "cell_type": "code",
   "execution_count": null,
   "metadata": {},
   "outputs": [],
   "source": [
    "mpg_data.describe()"
   ]
  },
  {
   "cell_type": "code",
   "execution_count": null,
   "metadata": {},
   "outputs": [],
   "source": [
    "corr_matrix = mpg_data.corr()"
   ]
  },
  {
   "cell_type": "code",
   "execution_count": null,
   "metadata": {},
   "outputs": [],
   "source": [
    "mpg_data.drop(['model_year', 'origin'], axis=1).corr(method='pearson').style.format(\"{:.2}\").background_gradient(cmap=plt.get_cmap('coolwarm'), axis=1)"
   ]
  },
  {
   "cell_type": "code",
   "execution_count": null,
   "metadata": {},
   "outputs": [],
   "source": [
    "from pandas.tools.plotting import scatter_matrix\n",
    "import seaborn as sns; sns.set(style=\"ticks\", color_codes=True)\n",
    "\n",
    "scatter_matrix(mpg_data.drop(['model_year', 'origin'], axis=1), figsize=(12, 8))"
   ]
  },
  {
   "cell_type": "code",
   "execution_count": null,
   "metadata": {},
   "outputs": [],
   "source": [
    "import seaborn as sns\n",
    "df = mpg_data.drop(['model_year', 'origin'], axis=1).dropna()\n",
    "\n",
    "sns.pairplot(df, kind=\"reg\")"
   ]
  },
  {
   "cell_type": "markdown",
   "metadata": {},
   "source": [
    "## Важное замечание о теории вероятностей "
   ]
  },
  {
   "cell_type": "markdown",
   "metadata": {},
   "source": [
    "<img src=\"https://cdn-images-1.medium.com/max/800/1*4fmkOy6670j8DIWxTcqRDg.gif\">"
   ]
  },
  {
   "cell_type": "markdown",
   "metadata": {},
   "source": [
    "## Нормализация данных"
   ]
  },
  {
   "cell_type": "markdown",
   "metadata": {},
   "source": [
    "min-max scaling"
   ]
  },
  {
   "cell_type": "code",
   "execution_count": null,
   "metadata": {},
   "outputs": [],
   "source": [
    "# X_std = (X - X.min(axis=0)) / (X.max(axis=0) - X.min(axis=0))\n",
    "# X_scaled = X_std * (max - min) + min"
   ]
  },
  {
   "cell_type": "code",
   "execution_count": null,
   "metadata": {},
   "outputs": [],
   "source": [
    "from sklearn import preprocessing\n",
    "X_train = np.array([[ 1., -1.,  2.],\n",
    "                    [ 2.,  0.,  0.],\n",
    "                    [ 0.,  1., -1.]])\n",
    "min_max_scaler = preprocessing.MinMaxScaler()\n",
    "X_train_minmax = min_max_scaler.fit_transform(X_train)\n",
    "X_train_minmax"
   ]
  },
  {
   "cell_type": "markdown",
   "metadata": {},
   "source": [
    "standardization"
   ]
  },
  {
   "cell_type": "code",
   "execution_count": null,
   "metadata": {},
   "outputs": [],
   "source": [
    "from sklearn import preprocessing\n",
    "X_train = np.array([[ 1., -1.,  2.],\n",
    "                    [ 2.,  0.,  0.],\n",
    "                    [ 0.,  1., -1.]])\n",
    "min_max_scaler = preprocessing.StandardScaler()\n",
    "X_train_minmax = min_max_scaler.fit_transform(X_train)\n",
    "X_train_minmax"
   ]
  }
 ],
 "metadata": {
  "kernelspec": {
   "display_name": "Python 3",
   "language": "python",
   "name": "python3"
  },
  "language_info": {
   "codemirror_mode": {
    "name": "ipython",
    "version": 2
   },
   "file_extension": ".py",
   "mimetype": "text/x-python",
   "name": "python",
   "nbconvert_exporter": "python",
   "pygments_lexer": "ipython2",
   "version": "2.7.9"
  }
 },
 "nbformat": 4,
 "nbformat_minor": 2
}
